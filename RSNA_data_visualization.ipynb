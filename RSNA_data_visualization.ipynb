{
  "nbformat": 4,
  "nbformat_minor": 0,
  "metadata": {
    "colab": {
      "name": "RSNA_data_visualization.ipynb",
      "provenance": [],
      "collapsed_sections": [],
      "authorship_tag": "ABX9TyPhDt+FxaaET8VQbAzRxppm",
      "include_colab_link": true
    },
    "kernelspec": {
      "name": "python3",
      "display_name": "Python 3"
    }
  },
  "cells": [
    {
      "cell_type": "markdown",
      "metadata": {
        "id": "view-in-github",
        "colab_type": "text"
      },
      "source": [
        "<a href=\"https://colab.research.google.com/github/s-mostafa-a/visualizing-medical-data/blob/master/RSNA_data_visualization.ipynb\" target=\"_parent\"><img src=\"https://colab.research.google.com/assets/colab-badge.svg\" alt=\"Open In Colab\"/></a>"
      ]
    },
    {
      "cell_type": "code",
      "metadata": {
        "id": "SxVNJ5sIiD_Y",
        "colab_type": "code",
        "colab": {
          "base_uri": "https://localhost:8080/",
          "height": 69
        },
        "outputId": "87a02174-a66d-4093-ae92-b9136fec9813"
      },
      "source": [
        "!curl https://s3.amazonaws.com/east1.public.rsna.org/AI/2018/pneumonia-challenge-dataset-original_2018.zip --output dataset.zip"
      ],
      "execution_count": 2,
      "outputs": [
        {
          "output_type": "stream",
          "text": [
            "  % Total    % Received % Xferd  Average Speed   Time    Time     Time  Current\n",
            "                                 Dload  Upload   Total   Spent    Left  Speed\n",
            "100 3252M  100 3252M    0     0  16.2M      0  0:03:20  0:03:20 --:--:-- 16.3M\n"
          ],
          "name": "stdout"
        }
      ]
    },
    {
      "cell_type": "code",
      "metadata": {
        "id": "z3o7ZCGZiLdA",
        "colab_type": "code",
        "colab": {}
      },
      "source": [
        "!unzip dataset.zip -d ./dataset"
      ],
      "execution_count": null,
      "outputs": []
    },
    {
      "cell_type": "code",
      "metadata": {
        "id": "ZQ-d_r46jK1z",
        "colab_type": "code",
        "colab": {}
      },
      "source": [
        "from fastai.vision import *"
      ],
      "execution_count": 9,
      "outputs": []
    },
    {
      "cell_type": "code",
      "metadata": {
        "id": "pJEEutCLkBzb",
        "colab_type": "code",
        "colab": {}
      },
      "source": [
        "data = (ImageItemList.from_csv(path=data_path, \n",
        "                              csv_name='./dataset/rsna_train_labels.csv',\n",
        "                              folder='train_images',\n",
        "                              suffix='.dcm'\n",
        "                             )\n",
        "        .random_split_by_pct()\n",
        "        .label_from_df(cols='Target')\n",
        "        .transform(get_transforms(), size=224)\n",
        "        .databunch())"
      ],
      "execution_count": null,
      "outputs": []
    }
  ]
}