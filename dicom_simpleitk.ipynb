{
  "nbformat": 4,
  "nbformat_minor": 0,
  "metadata": {
    "colab": {
      "name": "dicom_simpleitk.ipynb",
      "provenance": [],
      "collapsed_sections": [],
      "authorship_tag": "ABX9TyPY12EDkpY0kM0fUvRNX+tX",
      "include_colab_link": true
    },
    "kernelspec": {
      "name": "python3",
      "display_name": "Python 3"
    }
  },
  "cells": [
    {
      "cell_type": "markdown",
      "metadata": {
        "id": "view-in-github",
        "colab_type": "text"
      },
      "source": [
        "<a href=\"https://colab.research.google.com/github/s-mostafa-a/visualizing-medical-data/blob/master/dicom_simpleitk.ipynb\" target=\"_parent\"><img src=\"https://colab.research.google.com/assets/colab-badge.svg\" alt=\"Open In Colab\"/></a>"
      ]
    },
    {
      "cell_type": "code",
      "metadata": {
        "id": "r4Bn1EESOFPj",
        "colab_type": "code",
        "outputId": "f66dd5de-4fd5-4275-d3cb-0ccfd0ed91bd",
        "colab": {
          "base_uri": "https://localhost:8080/",
          "height": 54
        }
      },
      "source": [
        "!pip install SimpleITK"
      ],
      "execution_count": 24,
      "outputs": [
        {
          "output_type": "stream",
          "text": [
            "Requirement already satisfied: SimpleITK in /usr/local/lib/python3.6/dist-packages (1.2.4)\n"
          ],
          "name": "stdout"
        }
      ]
    },
    {
      "cell_type": "code",
      "metadata": {
        "id": "9tT_pFqmU9Eh",
        "colab_type": "code",
        "outputId": "8891b895-bafb-4ed1-c27f-3f290ad731d5",
        "colab": {
          "base_uri": "https://localhost:8080/",
          "height": 309
        }
      },
      "source": [
        "!wget https://dl.dropbox.com/s/brm4ak8uzp10hzs/MammoTomoUPMC_Case1.tar.bz2"
      ],
      "execution_count": 25,
      "outputs": [
        {
          "output_type": "stream",
          "text": [
            "--2020-06-12 10:13:32--  https://dl.dropbox.com/s/brm4ak8uzp10hzs/MammoTomoUPMC_Case1.tar.bz2\n",
            "Resolving dl.dropbox.com (dl.dropbox.com)... 162.125.82.15, 2620:100:6032:15::a27d:520f\n",
            "Connecting to dl.dropbox.com (dl.dropbox.com)|162.125.82.15|:443... connected.\n",
            "HTTP request sent, awaiting response... 302 Found\n",
            "Location: https://dl.dropboxusercontent.com/s/brm4ak8uzp10hzs/MammoTomoUPMC_Case1.tar.bz2 [following]\n",
            "--2020-06-12 10:13:32--  https://dl.dropboxusercontent.com/s/brm4ak8uzp10hzs/MammoTomoUPMC_Case1.tar.bz2\n",
            "Resolving dl.dropboxusercontent.com (dl.dropboxusercontent.com)... 162.125.82.15, 2620:100:6032:15::a27d:520f\n",
            "Connecting to dl.dropboxusercontent.com (dl.dropboxusercontent.com)|162.125.82.15|:443... connected.\n",
            "HTTP request sent, awaiting response... 200 OK\n",
            "Length: 248449890 (237M) [application/octet-stream]\n",
            "Saving to: ‘MammoTomoUPMC_Case1.tar.bz2’\n",
            "\n",
            "MammoTomoUPMC_Case1 100%[===================>] 236.94M  10.8MB/s    in 22s     \n",
            "\n",
            "2020-06-12 10:13:55 (10.9 MB/s) - ‘MammoTomoUPMC_Case1.tar.bz2’ saved [248449890/248449890]\n",
            "\n"
          ],
          "name": "stdout"
        }
      ]
    },
    {
      "cell_type": "code",
      "metadata": {
        "id": "rWV_5eY_VMLM",
        "colab_type": "code",
        "colab": {}
      },
      "source": [
        "!mkdir breast\n",
        "!tar -xjf /content/MammoTomoUPMC_Case1.tar.bz2 -C ./breast"
      ],
      "execution_count": 0,
      "outputs": []
    },
    {
      "cell_type": "code",
      "metadata": {
        "id": "HegmDPi3PjpZ",
        "colab_type": "code",
        "outputId": "49a3ee31-6f69-429c-c1e0-140cc4620b24",
        "colab": {
          "base_uri": "https://localhost:8080/",
          "height": 141
        }
      },
      "source": [
        "import SimpleITK as sitk\n",
        "import sys\n",
        "import os\n",
        "from matplotlib import pyplot as plt\n",
        "import numpy as np\n",
        "%matplotlib inline\n",
        "\n",
        "def show_slices(slices):\n",
        "  fig, axes = plt.subplots(1, len(slices))\n",
        "  for i, slice in enumerate(slices):\n",
        "    axes[i].imshow(slice.T, cmap=\"gray\", origin=\"lower\")\n",
        "\n",
        "\n",
        "breast_image_path = '/content/breast/Case1 [Case1]/20080408 023126 [ - BREAST IMAGING TOMOSYNTHESIS]/Series 73200000 [MG - L MLO Breast Tomosynthesis Image]/1.3.6.1.4.1.5962.99.1.2280943358.716200484.1363785608958.73.0.dcm'\n",
        "breast_array = sitk.GetArrayFromImage(sitk.ReadImage(breast_image_path))\n",
        "print(breast_array.shape)\n",
        "show_slices([breast_array[0,:,:], breast_array[29,:,:], breast_array[59,:,:]])\n"
      ],
      "execution_count": 27,
      "outputs": [
        {
          "output_type": "stream",
          "text": [
            "(60, 2457, 1890)\n"
          ],
          "name": "stdout"
        },
        {
          "output_type": "display_data",
          "data": {
            "image/png": "[encoded data removed]",
            "text/plain": [
              "<Figure size 432x288 with 3 Axes>"
            ]
          },
          "metadata": {
            "tags": [],
            "needs_background": "light"
          }
        }
      ]
    },
    {
      "cell_type": "code",
      "metadata": {
        "id": "b3MtTZ5UuPsM",
        "colab_type": "code",
        "outputId": "ed3d908d-7840-4ffc-cb74-3d6f8d76fe3c",
        "colab": {
          "base_uri": "https://localhost:8080/",
          "height": 224
        }
      },
      "source": [
        "!wget https://mri.radiology.uiowa.edu/website_documents/visible_human_tar_files/VHMCT1mm_Head.tar.gz"
      ],
      "execution_count": 28,
      "outputs": [
        {
          "output_type": "stream",
          "text": [
            "--2020-06-12 10:15:07--  https://mri.radiology.uiowa.edu/website_documents/visible_human_tar_files/VHMCT1mm_Head.tar.gz\n",
            "Resolving mri.radiology.uiowa.edu (mri.radiology.uiowa.edu)... 128.255.1.153\n",
            "Connecting to mri.radiology.uiowa.edu (mri.radiology.uiowa.edu)|128.255.1.153|:443... connected.\n",
            "HTTP request sent, awaiting response... 200 OK\n",
            "Length: 31866153 (30M) [application/x-gzip]\n",
            "Saving to: ‘VHMCT1mm_Head.tar.gz’\n",
            "\n",
            "VHMCT1mm_Head.tar.g 100%[===================>]  30.39M  5.01MB/s    in 14s     \n",
            "\n",
            "2020-06-12 10:15:22 (2.16 MB/s) - ‘VHMCT1mm_Head.tar.gz’ saved [31866153/31866153]\n",
            "\n"
          ],
          "name": "stdout"
        }
      ]
    },
    {
      "cell_type": "code",
      "metadata": {
        "id": "feOrCKB14vxm",
        "colab_type": "code",
        "colab": {}
      },
      "source": [
        "!mkdir head\n",
        "!tar -xf /content/VHMCT1mm_Head.tar.gz -C ./head"
      ],
      "execution_count": 0,
      "outputs": []
    },
    {
      "cell_type": "code",
      "metadata": {
        "id": "2-sMQoYT43GT",
        "colab_type": "code",
        "outputId": "830c5e66-50be-47f6-a750-8605d6076717",
        "colab": {
          "base_uri": "https://localhost:8080/",
          "height": 163
        }
      },
      "source": [
        "head_image = sitk.ReadImage(sitk.ImageSeriesReader_GetGDCMSeriesFileNames('/content/head/Head'))\n",
        "head_array = sitk.GetArrayFromImage(head_image)\n",
        "print(head_array.shape)\n",
        "show_slices([head_array[0,:,:], head_array[100,:,:], head_array[200,:,:]])\n"
      ],
      "execution_count": 30,
      "outputs": [
        {
          "output_type": "stream",
          "text": [
            "(245, 512, 512)\n"
          ],
          "name": "stdout"
        },
        {
          "output_type": "display_data",
          "data": {
            "image/png": "[encoded data removed]",
            "text/plain": [
              "<Figure size 432x288 with 3 Axes>"
            ]
          },
          "metadata": {
            "tags": [],
            "needs_background": "light"
          }
        }
      ]
    },
    {
      "cell_type": "code",
      "metadata": {
        "id": "rOIiLn_nBMFi",
        "colab_type": "code",
        "colab": {}
      },
      "source": [
        ""
      ],
      "execution_count": 0,
      "outputs": []
    }
  ]
}